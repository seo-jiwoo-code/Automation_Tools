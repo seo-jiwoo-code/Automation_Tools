{
 "cells": [
  {
   "cell_type": "code",
   "execution_count": 10,
   "metadata": {},
   "outputs": [],
   "source": [
    "from PIL import Image\n",
    "import os\n",
    "\n",
    "def resize_images(source_directory, target_directory, width, height):\n",
    "    \"\"\"\n",
    "    Resizes all PNG images in the source_directory to the specified width and height,\n",
    "    and saves them in the target_directory.\n",
    "\n",
    "    :param source_directory: Directory containing the original images.\n",
    "    :param target_directory: Directory where resized images will be saved.\n",
    "    :param width: Width of the resized images.\n",
    "    :param height: Height of the resized images.\n",
    "    \"\"\"\n",
    "    # Create the target directory if it doesn't exist\n",
    "    if not os.path.exists(target_directory):\n",
    "        os.makedirs(target_directory)\n",
    "\n",
    "    # Iterate through each file in the source directory\n",
    "    for filename in os.listdir(source_directory):\n",
    "        if filename.endswith(\".png\"):\n",
    "            img_path = os.path.join(source_directory, filename)\n",
    "            img = Image.open(img_path)\n",
    "\n",
    "            # Resize the image\n",
    "            img_resized = img.resize((width, height))\n",
    "\n",
    "            # Save the resized image to the target directory\n",
    "            img_resized.save(os.path.join(target_directory, filename))\n",
    "\n",
    "# Example usage\n",
    "source_dir = '/Users/seojiwoo/Desktop/final design funkyphoto/Frame/1 FRAME'  # Replace with your source directory path\n",
    "target_dir = '/Users/seojiwoo/Desktop/final design funkyphoto/Frame/1 FRAME RESIZED'  # Replace with your target directory path\n",
    "width, height = 1920, 2860  # Replace with your desired dimensions in pixels\n",
    "\n",
    "resize_images(source_dir, target_dir, width, height)\n"
   ]
  },
  {
   "cell_type": "code",
   "execution_count": null,
   "metadata": {},
   "outputs": [],
   "source": []
  }
 ],
 "metadata": {
  "kernelspec": {
   "display_name": "Python 3",
   "language": "python",
   "name": "python3"
  },
  "language_info": {
   "codemirror_mode": {
    "name": "ipython",
    "version": 3
   },
   "file_extension": ".py",
   "mimetype": "text/x-python",
   "name": "python",
   "nbconvert_exporter": "python",
   "pygments_lexer": "ipython3",
   "version": "3.9.12"
  }
 },
 "nbformat": 4,
 "nbformat_minor": 2
}
